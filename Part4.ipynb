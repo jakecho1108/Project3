{
 "cells": [
  {
   "cell_type": "code",
   "execution_count": 1,
   "id": "bd3d86f9",
   "metadata": {},
   "outputs": [
    {
     "data": {
      "text/html": [
       "<div>\n",
       "<style scoped>\n",
       "    .dataframe tbody tr th:only-of-type {\n",
       "        vertical-align: middle;\n",
       "    }\n",
       "\n",
       "    .dataframe tbody tr th {\n",
       "        vertical-align: top;\n",
       "    }\n",
       "\n",
       "    .dataframe thead th {\n",
       "        text-align: right;\n",
       "    }\n",
       "</style>\n",
       "<table border=\"1\" class=\"dataframe\">\n",
       "  <thead>\n",
       "    <tr style=\"text-align: right;\">\n",
       "      <th></th>\n",
       "      <th>imdb_id</th>\n",
       "      <th>revenue</th>\n",
       "      <th>budget</th>\n",
       "      <th>certification</th>\n",
       "    </tr>\n",
       "  </thead>\n",
       "  <tbody>\n",
       "    <tr>\n",
       "      <th>0</th>\n",
       "      <td>tt0113026</td>\n",
       "      <td>0.0</td>\n",
       "      <td>10000000.0</td>\n",
       "      <td>NaN</td>\n",
       "    </tr>\n",
       "    <tr>\n",
       "      <th>1</th>\n",
       "      <td>tt0113092</td>\n",
       "      <td>0.0</td>\n",
       "      <td>0.0</td>\n",
       "      <td>NaN</td>\n",
       "    </tr>\n",
       "    <tr>\n",
       "      <th>2</th>\n",
       "      <td>tt0116391</td>\n",
       "      <td>0.0</td>\n",
       "      <td>0.0</td>\n",
       "      <td>NaN</td>\n",
       "    </tr>\n",
       "    <tr>\n",
       "      <th>3</th>\n",
       "      <td>tt0118694</td>\n",
       "      <td>14204632.0</td>\n",
       "      <td>150000.0</td>\n",
       "      <td>PG</td>\n",
       "    </tr>\n",
       "    <tr>\n",
       "      <th>4</th>\n",
       "      <td>tt0118852</td>\n",
       "      <td>0.0</td>\n",
       "      <td>0.0</td>\n",
       "      <td>R</td>\n",
       "    </tr>\n",
       "    <tr>\n",
       "      <th>...</th>\n",
       "      <td>...</td>\n",
       "      <td>...</td>\n",
       "      <td>...</td>\n",
       "      <td>...</td>\n",
       "    </tr>\n",
       "    <tr>\n",
       "      <th>2571</th>\n",
       "      <td>tt7797790</td>\n",
       "      <td>0.0</td>\n",
       "      <td>0.0</td>\n",
       "      <td>NaN</td>\n",
       "    </tr>\n",
       "    <tr>\n",
       "      <th>2572</th>\n",
       "      <td>tt8665056</td>\n",
       "      <td>0.0</td>\n",
       "      <td>0.0</td>\n",
       "      <td>NaN</td>\n",
       "    </tr>\n",
       "    <tr>\n",
       "      <th>2573</th>\n",
       "      <td>tt8795764</td>\n",
       "      <td>0.0</td>\n",
       "      <td>0.0</td>\n",
       "      <td>NR</td>\n",
       "    </tr>\n",
       "    <tr>\n",
       "      <th>2574</th>\n",
       "      <td>tt9071078</td>\n",
       "      <td>0.0</td>\n",
       "      <td>0.0</td>\n",
       "      <td>NaN</td>\n",
       "    </tr>\n",
       "    <tr>\n",
       "      <th>2575</th>\n",
       "      <td>tt9212730</td>\n",
       "      <td>0.0</td>\n",
       "      <td>0.0</td>\n",
       "      <td>NaN</td>\n",
       "    </tr>\n",
       "  </tbody>\n",
       "</table>\n",
       "<p>2576 rows × 4 columns</p>\n",
       "</div>"
      ],
      "text/plain": [
       "        imdb_id     revenue      budget certification\n",
       "0     tt0113026         0.0  10000000.0           NaN\n",
       "1     tt0113092         0.0         0.0           NaN\n",
       "2     tt0116391         0.0         0.0           NaN\n",
       "3     tt0118694  14204632.0    150000.0            PG\n",
       "4     tt0118852         0.0         0.0             R\n",
       "...         ...         ...         ...           ...\n",
       "2571  tt7797790         0.0         0.0           NaN\n",
       "2572  tt8665056         0.0         0.0           NaN\n",
       "2573  tt8795764         0.0         0.0            NR\n",
       "2574  tt9071078         0.0         0.0           NaN\n",
       "2575  tt9212730         0.0         0.0           NaN\n",
       "\n",
       "[2576 rows x 4 columns]"
      ]
     },
     "execution_count": 1,
     "metadata": {},
     "output_type": "execute_result"
    }
   ],
   "source": [
    "import matplotlib.pyplot as plt\n",
    "import seaborn as sns\n",
    "import pandas as pd\n",
    "import numpy as np\n",
    "from scipy import stats\n",
    "TMDBAPI = pd.read_csv(\"Data/tmdb_results_combined.csv.gz\", low_memory = False)\n",
    "TMDBAPI = TMDBAPI[['imdb_id', 'revenue', 'budget', 'certification']]\n",
    "TMDBAPI = TMDBAPI.drop(TMDBAPI.index[0])\n",
    "TMDBAPI= TMDBAPI.reset_index(drop=True)\n",
    "TMDBAPI"
   ]
  },
  {
   "cell_type": "code",
   "execution_count": 2,
   "id": "9cc1733b",
   "metadata": {},
   "outputs": [
    {
     "data": {
      "text/plain": [
       "R        467\n",
       "PG-13    182\n",
       "PG        63\n",
       "G         25\n",
       "Name: certification, dtype: int64"
      ]
     },
     "execution_count": 2,
     "metadata": {},
     "output_type": "execute_result"
    }
   ],
   "source": [
    "TMDBAPI2=TMDBAPI.copy()\n",
    "TMDBAPI2=TMDBAPI2[TMDBAPI2['certification'].isin(['R', 'PG-13', 'PG', 'G'])]\n",
    "\n",
    "TMDBAPI2['certification'].value_counts()"
   ]
  },
  {
   "cell_type": "markdown",
   "id": "9c4e6ffd",
   "metadata": {},
   "source": [
    "The stakeholder's first question is: does the MPAA rating of a movie (G/PG/PG-13/R) affect how much revenue the movie generates?\n",
    "\n",
    "There are four categories to compare and we are dealing with numerical values, therefore, ANOVA method is used.\n",
    "\n",
    "Null Hypothesis: There is no difference on revenue produced for ratings of a movie.\n",
    "\n",
    "Alternate Hypothesis: There is an impact on revenue based on the ratings of a movie."
   ]
  },
  {
   "cell_type": "code",
   "execution_count": 3,
   "id": "20e97fde",
   "metadata": {},
   "outputs": [
    {
     "data": {
      "text/plain": [
       "dict_keys(['PG', 'R', 'G', 'PG-13'])"
      ]
     },
     "execution_count": 3,
     "metadata": {},
     "output_type": "execute_result"
    }
   ],
   "source": [
    "ratings ={}\n",
    "\n",
    "for rating in TMDBAPI2['certification'].unique():\n",
    "    temp = TMDBAPI2.loc[TMDBAPI2['certification']== rating, 'revenue']\n",
    "    ratings[rating] = temp\n",
    "\n",
    "ratings.keys()"
   ]
  },
  {
   "cell_type": "code",
   "execution_count": 4,
   "id": "3d06a312",
   "metadata": {},
   "outputs": [
    {
     "name": "stdout",
     "output_type": "stream",
     "text": [
      "There were 1 outliers in the PG ratings.\n",
      "There were 12 outliers in the R ratings.\n",
      "There were 1 outliers in the G ratings.\n",
      "There were 5 outliers in the PG-13 ratings.\n"
     ]
    }
   ],
   "source": [
    "for certification, rating in ratings.items():\n",
    "\n",
    "    ## determine if there are any outliers\n",
    "    outliers = np.abs(stats.zscore(rating)) > 3\n",
    "\n",
    "    ## print a statement about how many outliers for which group name\n",
    "    print(f\"There were {outliers.sum()} outliers in the {certification} ratings.\")\n",
    "\n",
    "    ## Remove the outiers from data and overwrite the sector data in the dict\n",
    "    rating = rating.loc[~outliers]\n",
    "    ratings[certification] = rating"
   ]
  },
  {
   "cell_type": "code",
   "execution_count": 5,
   "id": "8e0f0fc7",
   "metadata": {},
   "outputs": [
    {
     "data": {
      "text/html": [
       "<div>\n",
       "<style scoped>\n",
       "    .dataframe tbody tr th:only-of-type {\n",
       "        vertical-align: middle;\n",
       "    }\n",
       "\n",
       "    .dataframe tbody tr th {\n",
       "        vertical-align: top;\n",
       "    }\n",
       "\n",
       "    .dataframe thead th {\n",
       "        text-align: right;\n",
       "    }\n",
       "</style>\n",
       "<table border=\"1\" class=\"dataframe\">\n",
       "  <thead>\n",
       "    <tr style=\"text-align: right;\">\n",
       "      <th></th>\n",
       "      <th>ratings</th>\n",
       "      <th>n</th>\n",
       "      <th>pval</th>\n",
       "      <th>sig?</th>\n",
       "    </tr>\n",
       "  </thead>\n",
       "  <tbody>\n",
       "    <tr>\n",
       "      <th>0</th>\n",
       "      <td>PG</td>\n",
       "      <td>62</td>\n",
       "      <td>3.673797e-13</td>\n",
       "      <td>True</td>\n",
       "    </tr>\n",
       "    <tr>\n",
       "      <th>1</th>\n",
       "      <td>R</td>\n",
       "      <td>455</td>\n",
       "      <td>2.810209e-75</td>\n",
       "      <td>True</td>\n",
       "    </tr>\n",
       "    <tr>\n",
       "      <th>2</th>\n",
       "      <td>G</td>\n",
       "      <td>24</td>\n",
       "      <td>1.287961e-02</td>\n",
       "      <td>True</td>\n",
       "    </tr>\n",
       "    <tr>\n",
       "      <th>3</th>\n",
       "      <td>PG-13</td>\n",
       "      <td>177</td>\n",
       "      <td>1.581495e-18</td>\n",
       "      <td>True</td>\n",
       "    </tr>\n",
       "  </tbody>\n",
       "</table>\n",
       "</div>"
      ],
      "text/plain": [
       "  ratings    n          pval  sig?\n",
       "0      PG   62  3.673797e-13  True\n",
       "1       R  455  2.810209e-75  True\n",
       "2       G   24  1.287961e-02  True\n",
       "3   PG-13  177  1.581495e-18  True"
      ]
     },
     "execution_count": 5,
     "metadata": {},
     "output_type": "execute_result"
    }
   ],
   "source": [
    "## Running normal test on each group and confirming there are >20 in each group\n",
    "\n",
    "## Save a list with an inner list of column names\n",
    "norm_results = [['ratings','n','pval','sig?']]\n",
    "\n",
    "\n",
    "## loop through group dict\n",
    "for certification, rating in ratings.items():\n",
    "    ## calculate normaltest results\n",
    "    stat, p = stats.normaltest(rating)\n",
    "\n",
    "    ## Append the right info into norm_resutls (as a list)\n",
    "    norm_results.append([certification,len(rating), p, p<.05])\n",
    "\n",
    "\n",
    "## Make norm_results a dataframe (first row is columns, everything else data)\n",
    "normal_results = pd.DataFrame(norm_results[1:], columns = norm_results[0])\n",
    "normal_results"
   ]
  },
  {
   "cell_type": "markdown",
   "id": "bbbe8594",
   "metadata": {},
   "source": [
    "n is large enough to disregard this test."
   ]
  },
  {
   "cell_type": "code",
   "execution_count": 6,
   "id": "bbb9c7de",
   "metadata": {},
   "outputs": [
    {
     "data": {
      "text/plain": [
       "LeveneResult(statistic=34.46387286735003, pvalue=8.26208476292791e-21)"
      ]
     },
     "execution_count": 6,
     "metadata": {},
     "output_type": "execute_result"
    }
   ],
   "source": [
    "stats.levene(*ratings.values())"
   ]
  },
  {
   "cell_type": "markdown",
   "id": "d1bded4a",
   "metadata": {},
   "source": [
    "We met the assumption of normality but did NOT meet the assumption of equal variance. We wanted to run an ANOVA test but will need to use a Kurskal-Wallis test instead."
   ]
  },
  {
   "cell_type": "code",
   "execution_count": 7,
   "id": "8165bcdb",
   "metadata": {},
   "outputs": [
    {
     "name": "stdout",
     "output_type": "stream",
     "text": [
      "KruskalResult(statistic=86.80820460151303, pvalue=1.0616406407462143e-18)\n"
     ]
    },
    {
     "data": {
      "text/plain": [
       "True"
      ]
     },
     "execution_count": 7,
     "metadata": {},
     "output_type": "execute_result"
    }
   ],
   "source": [
    "result = stats.kruskal(*ratings.values())\n",
    "print(result)\n",
    "result.pvalue<.05"
   ]
  },
  {
   "cell_type": "markdown",
   "id": "8edb841d",
   "metadata": {},
   "source": [
    "Our Kruskal Wallis test returned a p-value less than .05. We  reject the null hypothesis and conclude that there is a significant proof to say that the four groups have different revenue due to their movie ratings."
   ]
  },
  {
   "cell_type": "code",
   "execution_count": 8,
   "id": "b3052ad9",
   "metadata": {},
   "outputs": [
    {
     "name": "stderr",
     "output_type": "stream",
     "text": [
      "C:\\Users\\jakec\\AppData\\Local\\Temp\\ipykernel_5284\\3961506174.py:1: FutureWarning: The default value of numeric_only in DataFrameGroupBy.mean is deprecated. In a future version, numeric_only will default to False. Either specify numeric_only or select only columns which should be valid for the function.\n",
      "  mean_values = TMDBAPI2.groupby('certification').mean()\n"
     ]
    },
    {
     "data": {
      "text/html": [
       "<div>\n",
       "<style scoped>\n",
       "    .dataframe tbody tr th:only-of-type {\n",
       "        vertical-align: middle;\n",
       "    }\n",
       "\n",
       "    .dataframe tbody tr th {\n",
       "        vertical-align: top;\n",
       "    }\n",
       "\n",
       "    .dataframe thead th {\n",
       "        text-align: right;\n",
       "    }\n",
       "</style>\n",
       "<table border=\"1\" class=\"dataframe\">\n",
       "  <thead>\n",
       "    <tr style=\"text-align: right;\">\n",
       "      <th></th>\n",
       "      <th>revenue</th>\n",
       "      <th>budget</th>\n",
       "    </tr>\n",
       "    <tr>\n",
       "      <th>certification</th>\n",
       "      <th></th>\n",
       "      <th></th>\n",
       "    </tr>\n",
       "  </thead>\n",
       "  <tbody>\n",
       "    <tr>\n",
       "      <th>G</th>\n",
       "      <td>7.041886e+07</td>\n",
       "      <td>2.288000e+07</td>\n",
       "    </tr>\n",
       "    <tr>\n",
       "      <th>PG</th>\n",
       "      <td>6.148838e+07</td>\n",
       "      <td>2.490472e+07</td>\n",
       "    </tr>\n",
       "    <tr>\n",
       "      <th>PG-13</th>\n",
       "      <td>7.146544e+07</td>\n",
       "      <td>3.094592e+07</td>\n",
       "    </tr>\n",
       "    <tr>\n",
       "      <th>R</th>\n",
       "      <td>1.612925e+07</td>\n",
       "      <td>9.663393e+06</td>\n",
       "    </tr>\n",
       "  </tbody>\n",
       "</table>\n",
       "</div>"
      ],
      "text/plain": [
       "                    revenue        budget\n",
       "certification                            \n",
       "G              7.041886e+07  2.288000e+07\n",
       "PG             6.148838e+07  2.490472e+07\n",
       "PG-13          7.146544e+07  3.094592e+07\n",
       "R              1.612925e+07  9.663393e+06"
      ]
     },
     "execution_count": 8,
     "metadata": {},
     "output_type": "execute_result"
    }
   ],
   "source": [
    "mean_values = TMDBAPI2.groupby('certification').mean()\n",
    "mean_values"
   ]
  },
  {
   "cell_type": "markdown",
   "id": "01ce7635",
   "metadata": {},
   "source": [
    "In average, PG-13 movies have the highest revenue while R rated movies have the lowest revenue."
   ]
  },
  {
   "cell_type": "markdown",
   "id": "5bfae751",
   "metadata": {},
   "source": [
    "The stakeholder's second question is: does the MPAA rating of a movie (G/PG/PG-13/R) affect the budget of the movie?\n",
    "\n",
    "There are four categories to compare and we are dealing with numerical values, therefore, ANOVA method is used.\n",
    "\n",
    "Null Hypothesis: There is no difference on budget produced for ratings of a movie.\n",
    "\n",
    "Alternate Hypothesis: There is an impact on revenue based on the budget of a movie."
   ]
  },
  {
   "cell_type": "code",
   "execution_count": 9,
   "id": "601eeec8",
   "metadata": {},
   "outputs": [
    {
     "data": {
      "text/plain": [
       "dict_keys(['PG', 'R', 'G', 'PG-13'])"
      ]
     },
     "execution_count": 9,
     "metadata": {},
     "output_type": "execute_result"
    }
   ],
   "source": [
    "TMDBAPI3=TMDBAPI.copy()\n",
    "TMDBAPI3=TMDBAPI3[TMDBAPI3['certification'].isin(['R', 'PG-13', 'PG', 'G'])]\n",
    "\n",
    "ratings2 ={}\n",
    "\n",
    "for rating in TMDBAPI3['certification'].unique():\n",
    "    temp = TMDBAPI3.loc[TMDBAPI3['certification']== rating, 'budget']\n",
    "    ratings2[rating] = temp\n",
    "\n",
    "ratings2.keys()"
   ]
  },
  {
   "cell_type": "code",
   "execution_count": 10,
   "id": "40655881",
   "metadata": {},
   "outputs": [
    {
     "name": "stdout",
     "output_type": "stream",
     "text": [
      "There were 0 outliers in the PG ratings.\n",
      "There were 10 outliers in the R ratings.\n",
      "There were 0 outliers in the G ratings.\n",
      "There were 2 outliers in the PG-13 ratings.\n"
     ]
    }
   ],
   "source": [
    "for certification, rating in ratings2.items():\n",
    "\n",
    "    ## determine if there are any outliers\n",
    "    outliers = np.abs(stats.zscore(rating)) > 3\n",
    "\n",
    "    ## print a statement about how many outliers for which group name\n",
    "    print(f\"There were {outliers.sum()} outliers in the {certification} ratings.\")\n",
    "\n",
    "    ## Remove the outiers from data and overwrite the sector data in the dict\n",
    "    rating = rating.loc[~outliers]\n",
    "    ratings2[certification] = rating"
   ]
  },
  {
   "cell_type": "code",
   "execution_count": 11,
   "id": "d9d1632f",
   "metadata": {},
   "outputs": [
    {
     "data": {
      "text/html": [
       "<div>\n",
       "<style scoped>\n",
       "    .dataframe tbody tr th:only-of-type {\n",
       "        vertical-align: middle;\n",
       "    }\n",
       "\n",
       "    .dataframe tbody tr th {\n",
       "        vertical-align: top;\n",
       "    }\n",
       "\n",
       "    .dataframe thead th {\n",
       "        text-align: right;\n",
       "    }\n",
       "</style>\n",
       "<table border=\"1\" class=\"dataframe\">\n",
       "  <thead>\n",
       "    <tr style=\"text-align: right;\">\n",
       "      <th></th>\n",
       "      <th>ratings</th>\n",
       "      <th>n</th>\n",
       "      <th>pval</th>\n",
       "      <th>sig?</th>\n",
       "    </tr>\n",
       "  </thead>\n",
       "  <tbody>\n",
       "    <tr>\n",
       "      <th>0</th>\n",
       "      <td>PG</td>\n",
       "      <td>63</td>\n",
       "      <td>1.378867e-04</td>\n",
       "      <td>True</td>\n",
       "    </tr>\n",
       "    <tr>\n",
       "      <th>1</th>\n",
       "      <td>R</td>\n",
       "      <td>457</td>\n",
       "      <td>1.122172e-48</td>\n",
       "      <td>True</td>\n",
       "    </tr>\n",
       "    <tr>\n",
       "      <th>2</th>\n",
       "      <td>G</td>\n",
       "      <td>25</td>\n",
       "      <td>6.152003e-04</td>\n",
       "      <td>True</td>\n",
       "    </tr>\n",
       "    <tr>\n",
       "      <th>3</th>\n",
       "      <td>PG-13</td>\n",
       "      <td>180</td>\n",
       "      <td>2.385245e-05</td>\n",
       "      <td>True</td>\n",
       "    </tr>\n",
       "  </tbody>\n",
       "</table>\n",
       "</div>"
      ],
      "text/plain": [
       "  ratings    n          pval  sig?\n",
       "0      PG   63  1.378867e-04  True\n",
       "1       R  457  1.122172e-48  True\n",
       "2       G   25  6.152003e-04  True\n",
       "3   PG-13  180  2.385245e-05  True"
      ]
     },
     "execution_count": 11,
     "metadata": {},
     "output_type": "execute_result"
    }
   ],
   "source": [
    "## Running normal test on each group and confirming there are >20 in each group\n",
    "\n",
    "## Save a list with an inner list of column names\n",
    "norm_results2 = [['ratings','n','pval','sig?']]\n",
    "\n",
    "\n",
    "## loop through group dict\n",
    "for certification, rating in ratings2.items():\n",
    "    ## calculate normaltest results\n",
    "    stat, p = stats.normaltest(rating)\n",
    "\n",
    "    ## Append the right info into norm_resutls (as a list)\n",
    "    norm_results2.append([certification,len(rating), p, p<.05])\n",
    "\n",
    "\n",
    "## Make norm_results a dataframe (first row is columns, everything else data)\n",
    "normal_results2 = pd.DataFrame(norm_results2[1:], columns = norm_results2[0])\n",
    "normal_results2"
   ]
  },
  {
   "cell_type": "markdown",
   "id": "bdad176a",
   "metadata": {},
   "source": [
    "n is large enough to disregard this test."
   ]
  },
  {
   "cell_type": "code",
   "execution_count": 12,
   "id": "3ec97e9f",
   "metadata": {},
   "outputs": [
    {
     "data": {
      "text/plain": [
       "LeveneResult(statistic=34.46387286735003, pvalue=8.26208476292791e-21)"
      ]
     },
     "execution_count": 12,
     "metadata": {},
     "output_type": "execute_result"
    }
   ],
   "source": [
    "stats.levene(*ratings.values())"
   ]
  },
  {
   "cell_type": "markdown",
   "id": "a2bb949e",
   "metadata": {},
   "source": [
    "We met the assumption of normality but did NOT meet the assumption of equal variance. We wanted to run an ANOVA test but will need to use a Kurskal-Wallis test instead."
   ]
  },
  {
   "cell_type": "code",
   "execution_count": 13,
   "id": "68c560d4",
   "metadata": {},
   "outputs": [
    {
     "name": "stdout",
     "output_type": "stream",
     "text": [
      "KruskalResult(statistic=86.80820460151303, pvalue=1.0616406407462143e-18)\n"
     ]
    },
    {
     "data": {
      "text/plain": [
       "True"
      ]
     },
     "execution_count": 13,
     "metadata": {},
     "output_type": "execute_result"
    }
   ],
   "source": [
    "result = stats.kruskal(*ratings.values())\n",
    "print(result)\n",
    "result.pvalue<.05"
   ]
  },
  {
   "cell_type": "markdown",
   "id": "a648407d",
   "metadata": {},
   "source": [
    "Our Kruskal Wallis test returned a p-value less than .05. We reject the null hypothesis and conclude that there is a significant proof to say that the four groups have different budget based on their movie ratings."
   ]
  },
  {
   "cell_type": "code",
   "execution_count": 14,
   "id": "4788d202",
   "metadata": {},
   "outputs": [
    {
     "name": "stderr",
     "output_type": "stream",
     "text": [
      "C:\\Users\\jakec\\AppData\\Local\\Temp\\ipykernel_5284\\3513588175.py:1: FutureWarning: The default value of numeric_only in DataFrameGroupBy.mean is deprecated. In a future version, numeric_only will default to False. Either specify numeric_only or select only columns which should be valid for the function.\n",
      "  mean_values2 = TMDBAPI3.groupby('certification').mean()\n"
     ]
    },
    {
     "data": {
      "text/html": [
       "<div>\n",
       "<style scoped>\n",
       "    .dataframe tbody tr th:only-of-type {\n",
       "        vertical-align: middle;\n",
       "    }\n",
       "\n",
       "    .dataframe tbody tr th {\n",
       "        vertical-align: top;\n",
       "    }\n",
       "\n",
       "    .dataframe thead th {\n",
       "        text-align: right;\n",
       "    }\n",
       "</style>\n",
       "<table border=\"1\" class=\"dataframe\">\n",
       "  <thead>\n",
       "    <tr style=\"text-align: right;\">\n",
       "      <th></th>\n",
       "      <th>revenue</th>\n",
       "      <th>budget</th>\n",
       "    </tr>\n",
       "    <tr>\n",
       "      <th>certification</th>\n",
       "      <th></th>\n",
       "      <th></th>\n",
       "    </tr>\n",
       "  </thead>\n",
       "  <tbody>\n",
       "    <tr>\n",
       "      <th>G</th>\n",
       "      <td>7.041886e+07</td>\n",
       "      <td>2.288000e+07</td>\n",
       "    </tr>\n",
       "    <tr>\n",
       "      <th>PG</th>\n",
       "      <td>6.148838e+07</td>\n",
       "      <td>2.490472e+07</td>\n",
       "    </tr>\n",
       "    <tr>\n",
       "      <th>PG-13</th>\n",
       "      <td>7.146544e+07</td>\n",
       "      <td>3.094592e+07</td>\n",
       "    </tr>\n",
       "    <tr>\n",
       "      <th>R</th>\n",
       "      <td>1.612925e+07</td>\n",
       "      <td>9.663393e+06</td>\n",
       "    </tr>\n",
       "  </tbody>\n",
       "</table>\n",
       "</div>"
      ],
      "text/plain": [
       "                    revenue        budget\n",
       "certification                            \n",
       "G              7.041886e+07  2.288000e+07\n",
       "PG             6.148838e+07  2.490472e+07\n",
       "PG-13          7.146544e+07  3.094592e+07\n",
       "R              1.612925e+07  9.663393e+06"
      ]
     },
     "execution_count": 14,
     "metadata": {},
     "output_type": "execute_result"
    }
   ],
   "source": [
    "mean_values2 = TMDBAPI3.groupby('certification').mean()\n",
    "mean_values2"
   ]
  },
  {
   "cell_type": "markdown",
   "id": "2c1edaa6",
   "metadata": {},
   "source": [
    "PG 13 movies tend to have the highest budget while the rated R movies tend to have the lowest budget. "
   ]
  },
  {
   "cell_type": "markdown",
   "id": "f102c5c7",
   "metadata": {},
   "source": [
    "The stakeholder's third question is: Did the running time of movies change over the years?"
   ]
  },
  {
   "cell_type": "code",
   "execution_count": 15,
   "id": "71c1f592",
   "metadata": {},
   "outputs": [
    {
     "data": {
      "text/plain": [
       "2019    5877\n",
       "2018    5770\n",
       "2017    5641\n",
       "2016    5250\n",
       "2021    5147\n",
       "2015    5052\n",
       "2020    5000\n",
       "2014    4909\n",
       "2013    4707\n",
       "2012    4514\n",
       "2011    4223\n",
       "2010    3855\n",
       "2009    3552\n",
       "2008    2906\n",
       "2007    2572\n",
       "2006    2434\n",
       "2005    2178\n",
       "2004    1900\n",
       "2003    1678\n",
       "2001    1569\n",
       "2002    1564\n",
       "2000    1448\n",
       "Name: startYear, dtype: int64"
      ]
     },
     "execution_count": 15,
     "metadata": {},
     "output_type": "execute_result"
    }
   ],
   "source": [
    "basics = pd.read_csv(\"Data/title_basics.csv.gz\", low_memory = False)\n",
    "basics['startYear'].value_counts()"
   ]
  },
  {
   "cell_type": "markdown",
   "id": "123471a9",
   "metadata": {},
   "source": [
    "There are 20 different years to compare and we are dealing with numerical values, therefore, ANOVA method is used.\n",
    "\n",
    "Null Hypothesis: There is no difference in running time over the years.\n",
    "\n",
    "Alternate Hypothesis: There is an change in running time over the years."
   ]
  },
  {
   "cell_type": "code",
   "execution_count": 16,
   "id": "09c107e5",
   "metadata": {},
   "outputs": [
    {
     "data": {
      "text/plain": [
       "dict_keys([2001, 2013, 2020, 2018, 2005, 2002, 2017, 2006, 2004, 2000, 2009, 2008, 2007, 2003, 2011, 2021, 2010, 2012, 2016, 2014, 2015, 2019])"
      ]
     },
     "execution_count": 16,
     "metadata": {},
     "output_type": "execute_result"
    }
   ],
   "source": [
    "years ={}\n",
    "\n",
    "for year in basics['startYear'].unique():\n",
    "    temp = basics.loc[basics['startYear']== year, 'runtimeMinutes']\n",
    "    years[year] = temp\n",
    "\n",
    "years.keys()"
   ]
  },
  {
   "cell_type": "code",
   "execution_count": 17,
   "id": "bfb43cbd",
   "metadata": {},
   "outputs": [
    {
     "name": "stdout",
     "output_type": "stream",
     "text": [
      "There were 31 outliers in the year 2001.\n",
      "There were 43 outliers in the year 2013.\n",
      "There were 24 outliers in the year 2020.\n",
      "There were 45 outliers in the year 2018.\n",
      "There were 8 outliers in the year 2005.\n",
      "There were 24 outliers in the year 2002.\n",
      "There were 47 outliers in the year 2017.\n",
      "There were 37 outliers in the year 2006.\n",
      "There were 14 outliers in the year 2004.\n",
      "There were 23 outliers in the year 2000.\n",
      "There were 32 outliers in the year 2009.\n",
      "There were 25 outliers in the year 2008.\n",
      "There were 21 outliers in the year 2007.\n",
      "There were 23 outliers in the year 2003.\n",
      "There were 8 outliers in the year 2011.\n",
      "There were 43 outliers in the year 2021.\n",
      "There were 12 outliers in the year 2010.\n",
      "There were 27 outliers in the year 2012.\n",
      "There were 17 outliers in the year 2016.\n",
      "There were 49 outliers in the year 2014.\n",
      "There were 30 outliers in the year 2015.\n",
      "There were 25 outliers in the year 2019.\n"
     ]
    }
   ],
   "source": [
    "for year, data in years.items():\n",
    "\n",
    "    ## determine if there are any outliers\n",
    "    outliers = np.abs(stats.zscore(data)) > 3\n",
    "\n",
    "    ## print a statement about how many outliers for which group name\n",
    "    print(f\"There were {outliers.sum()} outliers in the year {year}.\")\n",
    "\n",
    "    ## Remove the outiers from data and overwrite the sector data in the dict\n",
    "    data = data.loc[~outliers]\n",
    "    years[year] = data"
   ]
  },
  {
   "cell_type": "code",
   "execution_count": 18,
   "id": "df67c0d4",
   "metadata": {},
   "outputs": [
    {
     "data": {
      "text/html": [
       "<div>\n",
       "<style scoped>\n",
       "    .dataframe tbody tr th:only-of-type {\n",
       "        vertical-align: middle;\n",
       "    }\n",
       "\n",
       "    .dataframe tbody tr th {\n",
       "        vertical-align: top;\n",
       "    }\n",
       "\n",
       "    .dataframe thead th {\n",
       "        text-align: right;\n",
       "    }\n",
       "</style>\n",
       "<table border=\"1\" class=\"dataframe\">\n",
       "  <thead>\n",
       "    <tr style=\"text-align: right;\">\n",
       "      <th></th>\n",
       "      <th>group</th>\n",
       "      <th>n</th>\n",
       "      <th>pval</th>\n",
       "      <th>sig?</th>\n",
       "    </tr>\n",
       "  </thead>\n",
       "  <tbody>\n",
       "    <tr>\n",
       "      <th>0</th>\n",
       "      <td>2001</td>\n",
       "      <td>1538</td>\n",
       "      <td>1.016605e-22</td>\n",
       "      <td>True</td>\n",
       "    </tr>\n",
       "    <tr>\n",
       "      <th>1</th>\n",
       "      <td>2013</td>\n",
       "      <td>4664</td>\n",
       "      <td>1.982401e-45</td>\n",
       "      <td>True</td>\n",
       "    </tr>\n",
       "    <tr>\n",
       "      <th>2</th>\n",
       "      <td>2020</td>\n",
       "      <td>4976</td>\n",
       "      <td>9.697430e-39</td>\n",
       "      <td>True</td>\n",
       "    </tr>\n",
       "    <tr>\n",
       "      <th>3</th>\n",
       "      <td>2018</td>\n",
       "      <td>5725</td>\n",
       "      <td>8.330371e-64</td>\n",
       "      <td>True</td>\n",
       "    </tr>\n",
       "    <tr>\n",
       "      <th>4</th>\n",
       "      <td>2005</td>\n",
       "      <td>2170</td>\n",
       "      <td>1.641717e-41</td>\n",
       "      <td>True</td>\n",
       "    </tr>\n",
       "    <tr>\n",
       "      <th>5</th>\n",
       "      <td>2002</td>\n",
       "      <td>1540</td>\n",
       "      <td>1.247233e-13</td>\n",
       "      <td>True</td>\n",
       "    </tr>\n",
       "    <tr>\n",
       "      <th>6</th>\n",
       "      <td>2017</td>\n",
       "      <td>5594</td>\n",
       "      <td>1.013227e-48</td>\n",
       "      <td>True</td>\n",
       "    </tr>\n",
       "    <tr>\n",
       "      <th>7</th>\n",
       "      <td>2006</td>\n",
       "      <td>2397</td>\n",
       "      <td>8.467188e-21</td>\n",
       "      <td>True</td>\n",
       "    </tr>\n",
       "    <tr>\n",
       "      <th>8</th>\n",
       "      <td>2004</td>\n",
       "      <td>1886</td>\n",
       "      <td>4.393069e-34</td>\n",
       "      <td>True</td>\n",
       "    </tr>\n",
       "    <tr>\n",
       "      <th>9</th>\n",
       "      <td>2000</td>\n",
       "      <td>1425</td>\n",
       "      <td>4.275166e-26</td>\n",
       "      <td>True</td>\n",
       "    </tr>\n",
       "    <tr>\n",
       "      <th>10</th>\n",
       "      <td>2009</td>\n",
       "      <td>3520</td>\n",
       "      <td>8.709162e-22</td>\n",
       "      <td>True</td>\n",
       "    </tr>\n",
       "    <tr>\n",
       "      <th>11</th>\n",
       "      <td>2008</td>\n",
       "      <td>2881</td>\n",
       "      <td>3.032908e-15</td>\n",
       "      <td>True</td>\n",
       "    </tr>\n",
       "    <tr>\n",
       "      <th>12</th>\n",
       "      <td>2007</td>\n",
       "      <td>2551</td>\n",
       "      <td>3.327823e-39</td>\n",
       "      <td>True</td>\n",
       "    </tr>\n",
       "    <tr>\n",
       "      <th>13</th>\n",
       "      <td>2003</td>\n",
       "      <td>1655</td>\n",
       "      <td>1.601739e-24</td>\n",
       "      <td>True</td>\n",
       "    </tr>\n",
       "    <tr>\n",
       "      <th>14</th>\n",
       "      <td>2011</td>\n",
       "      <td>4215</td>\n",
       "      <td>1.012400e-47</td>\n",
       "      <td>True</td>\n",
       "    </tr>\n",
       "    <tr>\n",
       "      <th>15</th>\n",
       "      <td>2021</td>\n",
       "      <td>5104</td>\n",
       "      <td>2.923915e-28</td>\n",
       "      <td>True</td>\n",
       "    </tr>\n",
       "    <tr>\n",
       "      <th>16</th>\n",
       "      <td>2010</td>\n",
       "      <td>3843</td>\n",
       "      <td>2.926543e-74</td>\n",
       "      <td>True</td>\n",
       "    </tr>\n",
       "    <tr>\n",
       "      <th>17</th>\n",
       "      <td>2012</td>\n",
       "      <td>4487</td>\n",
       "      <td>2.280668e-45</td>\n",
       "      <td>True</td>\n",
       "    </tr>\n",
       "    <tr>\n",
       "      <th>18</th>\n",
       "      <td>2016</td>\n",
       "      <td>5233</td>\n",
       "      <td>3.094891e-79</td>\n",
       "      <td>True</td>\n",
       "    </tr>\n",
       "    <tr>\n",
       "      <th>19</th>\n",
       "      <td>2014</td>\n",
       "      <td>4860</td>\n",
       "      <td>2.467484e-40</td>\n",
       "      <td>True</td>\n",
       "    </tr>\n",
       "    <tr>\n",
       "      <th>20</th>\n",
       "      <td>2015</td>\n",
       "      <td>5022</td>\n",
       "      <td>1.186504e-57</td>\n",
       "      <td>True</td>\n",
       "    </tr>\n",
       "    <tr>\n",
       "      <th>21</th>\n",
       "      <td>2019</td>\n",
       "      <td>5852</td>\n",
       "      <td>1.711695e-82</td>\n",
       "      <td>True</td>\n",
       "    </tr>\n",
       "  </tbody>\n",
       "</table>\n",
       "</div>"
      ],
      "text/plain": [
       "    group     n          pval  sig?\n",
       "0    2001  1538  1.016605e-22  True\n",
       "1    2013  4664  1.982401e-45  True\n",
       "2    2020  4976  9.697430e-39  True\n",
       "3    2018  5725  8.330371e-64  True\n",
       "4    2005  2170  1.641717e-41  True\n",
       "5    2002  1540  1.247233e-13  True\n",
       "6    2017  5594  1.013227e-48  True\n",
       "7    2006  2397  8.467188e-21  True\n",
       "8    2004  1886  4.393069e-34  True\n",
       "9    2000  1425  4.275166e-26  True\n",
       "10   2009  3520  8.709162e-22  True\n",
       "11   2008  2881  3.032908e-15  True\n",
       "12   2007  2551  3.327823e-39  True\n",
       "13   2003  1655  1.601739e-24  True\n",
       "14   2011  4215  1.012400e-47  True\n",
       "15   2021  5104  2.923915e-28  True\n",
       "16   2010  3843  2.926543e-74  True\n",
       "17   2012  4487  2.280668e-45  True\n",
       "18   2016  5233  3.094891e-79  True\n",
       "19   2014  4860  2.467484e-40  True\n",
       "20   2015  5022  1.186504e-57  True\n",
       "21   2019  5852  1.711695e-82  True"
      ]
     },
     "execution_count": 18,
     "metadata": {},
     "output_type": "execute_result"
    }
   ],
   "source": [
    "norm_results = [['group','n','pval','sig?']]\n",
    "\n",
    "\n",
    "## loop through group dict\n",
    "for year, data in years.items():\n",
    "    ## calculate normaltest results\n",
    "    stat, p = stats.normaltest(data)\n",
    "\n",
    "    ## Append the right info into norm_resutls (as a list)\n",
    "    norm_results.append([year,len(data), p, p<.05])\n",
    "\n",
    "\n",
    "## Make norm_results a dataframe (first row is columns, everything else data)\n",
    "normal_results = pd.DataFrame(norm_results[1:], columns = norm_results[0])\n",
    "normal_results"
   ]
  },
  {
   "cell_type": "markdown",
   "id": "42e837a8",
   "metadata": {},
   "source": [
    "This shows that the groups do not have normal distribution, but our n is large enough to disregard it.\n",
    "\n"
   ]
  },
  {
   "cell_type": "code",
   "execution_count": 19,
   "id": "bbeefe58",
   "metadata": {},
   "outputs": [
    {
     "data": {
      "text/plain": [
       "LeveneResult(statistic=41.88534461877514, pvalue=1.1198727996507978e-171)"
      ]
     },
     "execution_count": 19,
     "metadata": {},
     "output_type": "execute_result"
    }
   ],
   "source": [
    "stats.levene(*years.values())\n"
   ]
  },
  {
   "cell_type": "markdown",
   "id": "ed955a2f",
   "metadata": {},
   "source": [
    "We met the assumption of normality but did NOT meet the assumption of equal variance. We wanted to run an ANOVA test but will need to use a Kurskal-Wallis test instead.\n",
    "\n"
   ]
  },
  {
   "cell_type": "code",
   "execution_count": 20,
   "id": "20eb0914",
   "metadata": {},
   "outputs": [
    {
     "name": "stdout",
     "output_type": "stream",
     "text": [
      "KruskalResult(statistic=318.78830180104444, pvalue=4.695236557898575e-55)\n"
     ]
    },
    {
     "data": {
      "text/plain": [
       "True"
      ]
     },
     "execution_count": 20,
     "metadata": {},
     "output_type": "execute_result"
    }
   ],
   "source": [
    "result = stats.kruskal(*years.values())\n",
    "print(result)\n",
    "result.pvalue<.05"
   ]
  },
  {
   "cell_type": "markdown",
   "id": "7b7ed339",
   "metadata": {},
   "source": [
    "Our Kruskal Wallis test returned a p-value less than .05. We reject the null hypothesis and conclude that there is a significant change over the years in runtime."
   ]
  }
 ],
 "metadata": {
  "kernelspec": {
   "display_name": "Python 3 (ipykernel)",
   "language": "python",
   "name": "python3"
  },
  "language_info": {
   "codemirror_mode": {
    "name": "ipython",
    "version": 3
   },
   "file_extension": ".py",
   "mimetype": "text/x-python",
   "name": "python",
   "nbconvert_exporter": "python",
   "pygments_lexer": "ipython3",
   "version": "3.9.15"
  },
  "toc": {
   "base_numbering": 1,
   "nav_menu": {},
   "number_sections": false,
   "sideBar": true,
   "skip_h1_title": false,
   "title_cell": "Table of Contents",
   "title_sidebar": "Contents",
   "toc_cell": false,
   "toc_position": {},
   "toc_section_display": true,
   "toc_window_display": false
  }
 },
 "nbformat": 4,
 "nbformat_minor": 5
}

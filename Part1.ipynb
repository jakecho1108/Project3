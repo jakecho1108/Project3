{
 "cells": [
  {
   "cell_type": "code",
   "execution_count": 2,
   "id": "d1a4bf73",
   "metadata": {},
   "outputs": [],
   "source": [
    "import pandas as pd\n",
    "\n",
    "basics_url=\"https://datasets.imdbws.com/title.basics.tsv.gz\"\n",
    "akas_url=\"https://datasets.imdbws.com/title.akas.tsv.gz\"\n",
    "ratings_url=\"https://datasets.imdbws.com/title.ratings.tsv.gz\"\n",
    "\n",
    "basics = pd.read_csv(basics_url, sep='\\t', low_memory=False)\n",
    "akas = pd.read_csv(akas_url, sep='\\t', low_memory=False)\n",
    "ratings = pd.read_csv(ratings_url, sep='\\t', low_memory=False)\n",
    "\n"
   ]
  },
  {
   "cell_type": "code",
   "execution_count": 24,
   "id": "4f56c8da",
   "metadata": {},
   "outputs": [],
   "source": [
    "import numpy as np\n",
    "basics = pd.read_csv(basics_url, sep='\\t', low_memory=False)\n",
    "\n",
    "basics=basics.replace({'\\\\N':np.nan})\n",
    "ratings=ratings.replace({'\\\\N':np.nan})\n",
    "akas=akas.replace({'\\\\N':np.nan})"
   ]
  },
  {
   "cell_type": "code",
   "execution_count": 47,
   "id": "a0324a74",
   "metadata": {},
   "outputs": [],
   "source": [
    "akas = akas[akas['region'] == 'US']"
   ]
  },
  {
   "cell_type": "code",
   "execution_count": 50,
   "id": "52920a96",
   "metadata": {},
   "outputs": [],
   "source": [
    "basics=basics.dropna(subset=['genres', 'runtimeMinutes'])\n",
    "basics = basics[basics['titleType'] == 'movie']\n",
    "basics['startYear'] = basics['startYear'].fillna(0)\n",
    "basics['startYear'] =basics['startYear'].astype(int)\n",
    "basics = basics[(basics['startYear'] >= 2000) & (basics['startYear'] <= 2021)]\n",
    "is_documentary = basics['genres'].str.contains('documentary',case=False)\n",
    "basics= basics[~is_documentary]"
   ]
  },
  {
   "cell_type": "code",
   "execution_count": 62,
   "id": "025c0376",
   "metadata": {},
   "outputs": [],
   "source": [
    "keepers =basics['tconst'].isin(akas['titleId'])\n",
    "basics = basics[keepers]\n",
    "keepers2 =ratings['tconst'].isin(akas['titleId'])\n",
    "ratings =ratings[keepers2]\n"
   ]
  },
  {
   "cell_type": "code",
   "execution_count": 64,
   "id": "77549918",
   "metadata": {},
   "outputs": [
    {
     "name": "stdout",
     "output_type": "stream",
     "text": [
      "<class 'pandas.core.frame.DataFrame'>\n",
      "Int64Index: 500672 entries, 0 to 1318114\n",
      "Data columns (total 3 columns):\n",
      " #   Column         Non-Null Count   Dtype  \n",
      "---  ------         --------------   -----  \n",
      " 0   tconst         500672 non-null  object \n",
      " 1   averageRating  500672 non-null  float64\n",
      " 2   numVotes       500672 non-null  int64  \n",
      "dtypes: float64(1), int64(1), object(1)\n",
      "memory usage: 15.3+ MB\n"
     ]
    }
   ],
   "source": [
    "ratings.info()"
   ]
  },
  {
   "cell_type": "code",
   "execution_count": 65,
   "id": "7d4e6fdb",
   "metadata": {},
   "outputs": [
    {
     "name": "stdout",
     "output_type": "stream",
     "text": [
      "<class 'pandas.core.frame.DataFrame'>\n",
      "Int64Index: 81746 entries, 34803 to 9915333\n",
      "Data columns (total 9 columns):\n",
      " #   Column          Non-Null Count  Dtype \n",
      "---  ------          --------------  ----- \n",
      " 0   tconst          81746 non-null  object\n",
      " 1   titleType       81746 non-null  object\n",
      " 2   primaryTitle    81746 non-null  object\n",
      " 3   originalTitle   81746 non-null  object\n",
      " 4   isAdult         81746 non-null  object\n",
      " 5   startYear       81746 non-null  int32 \n",
      " 6   endYear         0 non-null      object\n",
      " 7   runtimeMinutes  81746 non-null  object\n",
      " 8   genres          81746 non-null  object\n",
      "dtypes: int32(1), object(8)\n",
      "memory usage: 5.9+ MB\n"
     ]
    }
   ],
   "source": [
    "basics.info()"
   ]
  },
  {
   "cell_type": "code",
   "execution_count": 66,
   "id": "675e1281",
   "metadata": {},
   "outputs": [
    {
     "name": "stdout",
     "output_type": "stream",
     "text": [
      "<class 'pandas.core.frame.DataFrame'>\n",
      "Int64Index: 1443688 entries, 5 to 36171858\n",
      "Data columns (total 8 columns):\n",
      " #   Column           Non-Null Count    Dtype \n",
      "---  ------           --------------    ----- \n",
      " 0   titleId          1443688 non-null  object\n",
      " 1   ordering         1443688 non-null  int64 \n",
      " 2   title            1443688 non-null  object\n",
      " 3   region           1443688 non-null  object\n",
      " 4   language         3947 non-null     object\n",
      " 5   types            979872 non-null   object\n",
      " 6   attributes       46724 non-null    object\n",
      " 7   isOriginalTitle  1442346 non-null  object\n",
      "dtypes: int64(1), object(7)\n",
      "memory usage: 99.1+ MB\n"
     ]
    }
   ],
   "source": [
    "akas.info()"
   ]
  },
  {
   "cell_type": "code",
   "execution_count": 63,
   "id": "4453304a",
   "metadata": {},
   "outputs": [],
   "source": [
    "basics.to_csv(\"Data/title_basics.csv.gz\",compression='gzip',index=False)\n",
    "akas.to_csv(\"Data/title_akas.csv.gz\",compression='gzip',index=False)\n",
    "ratings.to_csv(\"Data/title_ratings.csv.gz\",compression='gzip',index=False)"
   ]
  },
  {
   "cell_type": "code",
   "execution_count": null,
   "id": "dd2813cb",
   "metadata": {},
   "outputs": [],
   "source": [
    "#basics = pd.read_csv(\"Data/title_basics.csv.gz\", low_memory = False)\n",
    "#basics.head()\n",
    "\n",
    "#ratings = pd.read_csv(\"Data/title_ratings.csv.gz\", low_memory = False)\n",
    "#ratings.head()\n",
    "\n",
    "#akas = pd.read_csv(\"Data/title_akas.csv.gz\", low_memory = False)\n",
    "#akas.head()\n",
    "\n"
   ]
  }
 ],
 "metadata": {
  "kernelspec": {
   "display_name": "Python 3 (ipykernel)",
   "language": "python",
   "name": "python3"
  },
  "language_info": {
   "codemirror_mode": {
    "name": "ipython",
    "version": 3
   },
   "file_extension": ".py",
   "mimetype": "text/x-python",
   "name": "python",
   "nbconvert_exporter": "python",
   "pygments_lexer": "ipython3",
   "version": "3.9.15"
  },
  "toc": {
   "base_numbering": 1,
   "nav_menu": {},
   "number_sections": false,
   "sideBar": true,
   "skip_h1_title": false,
   "title_cell": "Table of Contents",
   "title_sidebar": "Contents",
   "toc_cell": false,
   "toc_position": {},
   "toc_section_display": true,
   "toc_window_display": false
  }
 },
 "nbformat": 4,
 "nbformat_minor": 5
}
